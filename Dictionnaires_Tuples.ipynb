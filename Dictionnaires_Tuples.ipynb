{
 "cells": [
  {
   "cell_type": "markdown",
   "id": "914e84e2",
   "metadata": {},
   "source": [
    "<center>\n",
    "<H1><span style=\"text-align: center; font-weight: bold; color: #746bb3ff;\">Les Dictionnaires & Tuples</span></H1>\n",
    "</center>"
   ]
  },
  {
   "cell_type": "markdown",
   "id": "4904b5d8",
   "metadata": {},
   "source": [
    "<H3><span style=\"font-weight: bold ; color: #19b7f1ff\">Les ressources: </span></H3> \n",
    "\n",
    "**Documentation Officielle** : \n",
    "* [Dictionnaires](https://docs.python.org/fr/3/tutorial/datastructures.html#dictionaries) \n",
    "* [Tuples](https://docs.python.org/fr/3/tutorial/datastructures.html#tuples-and-sequences)"
   ]
  },
  {
   "cell_type": "markdown",
   "id": "6ba65839",
   "metadata": {},
   "source": [
    "<H3><span style=\"font-weight: bold; color: #1a8bcdff;\">Challenge 1 : Manipulation des dictionnaires Python</span></H3>\n",
    "\n",
    "1. <span style=\"font-weight: bold; color: #e56922ff;\">Objectif</span> : </br>\n",
    "Apprendre à manipuler des dictionnaires en Python à travers plusieurs opérations clés\n",
    "\n",
    "2. <span style=\"font-weight: bold; color: #e56922ff;\">Travail à faire</span>:</br>\n",
    "Considérons le dictionnaire suivant :\n",
    "\n",
    "<code>\n",
    "First_dict = { \"Appareil\": \"Laptop\", \"Marque\": \"IBM\", \"Carte mère\": \"MSI Z490\", \"Carte Graphique\":\"GeForce RTX 3070\", \"RAM\": \"16G\", \"Processeur\": \"Intel core i7-G11\", \"SSD\": \"1 To\" }    </code>\n",
    "\n",
    "- *Parti 1:* Écris un programme Python qui effectue les opérations suivantes :\n",
    "\n",
    "1. Corriger la valeur associée à la clé \"RAM\" pour qu’elle devienne \"32G\".\n",
    "\n",
    "2. Afficher successivement :\n",
    "\n",
    "3. La liste des clés du dictionnaire\n",
    "\n",
    "4. La liste des valeurs\n",
    "\n",
    "5. La liste des paires clé-valeur\n",
    "\n",
    "6. Inverser les paires \"Processeur\" : \"Intel core i7-G11\" et \"Carte Graphique\" : \"GeForce RTX 3070\"\n",
    "\n",
    "7. Ajouter la paire clé-valeur suivante : \"Système d’exploitation\": \"Windows 10\"\n",
    "\n",
    "- *Parti 2:* On considère le dictionnaire suivant dont les clés sont les noms des élèves et les valeurs des clés sont les moyennes générales obtenues en passant l’examen final.\n",
    "\n",
    "<code>notes_eleves = { \"Amine\": 15.5, \"Yassine\": 19.0, \"Reda\": 14.2, \"Malak\": 8.7, \"Manal\": 20.0, \"Ahmed\": 7.5,\"Saad\": 11.3, \"Hannae\": 9.8 }</code>\n",
    "\n",
    "Écrire un programme Python qui partitionne ce dictionnaire en deux sous dictionnaires :\n",
    "\n",
    "* etudiantAdmis dont les clés sont les étudiants admis et les valeurs des clés sont les moyennes obtenues (moyenne supérieures ou égales à 10 ).\n",
    "\n",
    "* etudiantNonAdmis dont les clés sont les étudiants non admis et les valeurs des clés sont les moyennes obtenues (moyenne inférieur ou égale à 10). "
   ]
  },
  {
   "cell_type": "code",
   "execution_count": 1,
   "id": "0fc954a1",
   "metadata": {},
   "outputs": [
    {
     "name": "stdout",
     "output_type": "stream",
     "text": [
      "{'Appareil': 'Laptop', 'Marque': 'IBM', 'Carte mère': 'MSI Z490', 'Carte Graphique': 'GeForce RTX 3070', 'RAM': '16G', 'Processeur': 'Intel core i7-G11', 'SSD': '1 To'}\n",
      "{'Appareil': 'Laptop', 'Marque': 'IBM', 'Carte mère': 'MSI Z490', 'Carte Graphique': 'GeForce RTX 3070', 'RAM': '32GB', 'Processeur': 'Intel core i7-G11', 'SSD': '1 To'}\n"
     ]
    }
   ],
   "source": [
    "#  Écrivez du code Python ici\n",
    "First_dict = { \"Appareil\": \"Laptop\", \"Marque\": \"IBM\", \"Carte mère\": \"MSI Z490\", \"Carte Graphique\":\"GeForce RTX 3070\", \"RAM\": \"16G\", \"Processeur\": \"Intel core i7-G11\", \"SSD\": \"1 To\" }\n",
    "print(First_dict)\n",
    "First_dict['RAM'] = \"32GB\"\n",
    "print(First_dict)"
   ]
  },
  {
   "cell_type": "code",
   "execution_count": 4,
   "id": "9213a9d1",
   "metadata": {},
   "outputs": [
    {
     "name": "stdout",
     "output_type": "stream",
     "text": [
      "Appareil\n",
      "Marque\n",
      "Carte mère\n",
      "Carte Graphique\n",
      "RAM\n",
      "Processeur\n",
      "SSD\n",
      "------\n",
      "Laptop\n",
      "IBM\n",
      "MSI Z490\n",
      "GeForce RTX 3070\n",
      "16G\n",
      "Intel core i7-G11\n",
      "1 To\n",
      "------\n",
      "Appareil => Laptop\n",
      "Marque => IBM\n",
      "Carte mère => MSI Z490\n",
      "Carte Graphique => GeForce RTX 3070\n",
      "RAM => 16G\n",
      "Processeur => Intel core i7-G11\n",
      "SSD => 1 To\n"
     ]
    }
   ],
   "source": [
    "First_dict = { \"Appareil\": \"Laptop\", \"Marque\": \"IBM\", \"Carte mère\": \"MSI Z490\", \"Carte Graphique\":\"GeForce RTX 3070\", \"RAM\": \"16G\", \"Processeur\": \"Intel core i7-G11\", \"SSD\": \"1 To\" }\n",
    "for item in First_dict:\n",
    "    print(item)\n",
    "print('------')\n",
    "for item in First_dict:\n",
    "    print(First_dict.get(item))\n",
    "print('------')\n",
    "for item in First_dict:\n",
    "    print(item+' => '+First_dict.get(item))"
   ]
  },
  {
   "cell_type": "code",
   "execution_count": 8,
   "id": "4db20813",
   "metadata": {},
   "outputs": [
    {
     "name": "stdout",
     "output_type": "stream",
     "text": [
      "{'Appareil': 'Laptop', 'Marque': 'IBM', 'Carte mère': 'MSI Z490', 'Processeur': 'Intel core i7-G11', 'RAM': '16G', 'Carte Graphique': 'GeForce RTX 3070', 'SSD': '1 To'}\n"
     ]
    }
   ],
   "source": [
    "First_dict = { \"Appareil\": \"Laptop\", \"Marque\": \"IBM\", \"Carte mère\": \"MSI Z490\", \"Carte Graphique\":\"GeForce RTX 3070\", \"RAM\": \"16G\", \"Processeur\": \"Intel core i7-G11\", \"SSD\": \"1 To\" }\n",
    "newDict = {}\n",
    "for key in First_dict:\n",
    "    if key == \"Processeur\":\n",
    "        newDict[\"Carte Graphique\"] = \"GeForce RTX 3070\"\n",
    "    elif key == \"Carte Graphique\":\n",
    "        newDict[\"Processeur\"] = \"Intel core i7-G11\"\n",
    "    else :\n",
    "        newDict[key] = First_dict.get(key)\n",
    "print(newDict)"
   ]
  },
  {
   "cell_type": "code",
   "execution_count": 10,
   "id": "7cb9c3d9",
   "metadata": {},
   "outputs": [
    {
     "name": "stdout",
     "output_type": "stream",
     "text": [
      "{'Appareil': 'Laptop', 'Marque': 'IBM', 'Carte mère': 'MSI Z490', 'Carte Graphique': 'GeForce RTX 3070', 'RAM': '16G', 'Processeur': 'Intel core i7-G11', 'SSD': '1 To', 'Système d’exploitation': 'Windows 10'}\n"
     ]
    }
   ],
   "source": [
    "First_dict = { \"Appareil\": \"Laptop\", \"Marque\": \"IBM\", \"Carte mère\": \"MSI Z490\", \"Carte Graphique\":\"GeForce RTX 3070\", \"RAM\": \"16G\", \"Processeur\": \"Intel core i7-G11\", \"SSD\": \"1 To\" }\n",
    "First_dict[\"Système d’exploitation\"] = \"Windows 10\"\n",
    "print(First_dict)"
   ]
  },
  {
   "cell_type": "code",
   "execution_count": 12,
   "id": "fb63c615",
   "metadata": {},
   "outputs": [
    {
     "name": "stdout",
     "output_type": "stream",
     "text": [
      "{'Malak': 8.7, 'Ahmed': 7.5, 'Hannae': 9.8}\n",
      "{'Amine': 15.5, 'Yassine': 19.0, 'Reda': 14.2, 'Manal': 20.0, 'Saad': 11.3}\n"
     ]
    }
   ],
   "source": [
    "notes_eleves = { \"Amine\": 15.5, \"Yassine\": 19.0, \"Reda\": 14.2, \"Malak\": 8.7, \"Manal\": 20.0, \"Ahmed\": 7.5,\"Saad\": 11.3, \"Hannae\": 9.8 }\n",
    "admis = {}\n",
    "non_admis = {}\n",
    "for item in notes_eleves:\n",
    "    if(notes_eleves.get(item) < 10):\n",
    "        non_admis[item]=notes_eleves.get(item)\n",
    "    else:\n",
    "        admis[item]=notes_eleves.get(item)\n",
    "print (non_admis)\n",
    "print (admis)"
   ]
  },
  {
   "cell_type": "markdown",
   "id": "7ab8effa",
   "metadata": {},
   "source": [
    "<H3><span style=\"font-weight: bold; color: #1a8bcdff;\">Challenge 2 : Mise à Jour de Dictionnaires</span></H3>\n",
    "\n",
    "1. <span style=\"font-weight: bold; color: #e56922ff;\">Objectif</span> : </br>\n",
    "Fusionner plusieurs dictionnaires en un seul.\n",
    "\n",
    "2. <span style=\"font-weight: bold; color: #e56922ff;\">Travail à faire</span>:</br>\n",
    "* Utilisez update() pour fusionner trois dictionnaires différents.\n",
    "* Affichez le dictionnaire final avec toutes les clés et valeurs combinées.\n"
   ]
  },
  {
   "cell_type": "code",
   "execution_count": 5,
   "id": "85cd8892",
   "metadata": {},
   "outputs": [
    {
     "name": "stdout",
     "output_type": "stream",
     "text": [
      "{'Hamza': 'Maroc', 'Omar': 'France', 'Admis': 3, 'Rattrapage': 5, 'Redoublant': 3, 'Non Admins': 1, 'Maroc': 'Dirham', 'France': 'Euro'}\n"
     ]
    }
   ],
   "source": [
    "#  Écrivez du code Python ici\n",
    "dict1 = {\"Hamza\":\"Maroc\", \"Omar\":\"France\"}\n",
    "dict2 = {\"Admis\" : 3, \"Rattrapage\":5, \"Redoublant\":3,\"Non Admins\":1}\n",
    "dict3 = {\"Maroc\":\"Dirham\", \"France\":\"Euro\"}\n",
    "\n",
    "final = {}\n",
    "final.update(dict1)\n",
    "final.update(dict2)\n",
    "final.update(dict3)\n",
    "print(final)\n"
   ]
  },
  {
   "cell_type": "markdown",
   "id": "c5dd1c26",
   "metadata": {},
   "source": [
    "<H3><span style=\"font-weight: bold; color: #1a8bcdff;\">Challenge 3 : Conversion de Deux Listes en Dictionnaire</span></H3>\n",
    "\n",
    "1. <span style=\"font-weight: bold; color: #e56922ff;\">Objectif</span> : </br>\n",
    "Créer un dictionnaire à partir de deux listes (une pour les clés, une pour les valeurs).\n",
    "\n",
    "2. <span style=\"font-weight: bold; color: #e56922ff;\">Travail à faire</span>:</br>\n",
    "* Utilisez zip() pour combiner les deux listes.\n",
    "* Convertissez le résultat en dictionnaire.\n",
    "* Affichez le dictionnaire créé.\n",
    "\n"
   ]
  },
  {
   "cell_type": "code",
   "execution_count": 28,
   "id": "2663dae7",
   "metadata": {},
   "outputs": [
    {
     "name": "stdout",
     "output_type": "stream",
     "text": [
      "{'Hamza': 11, 'Omar': 12, 'Imad': 13}\n"
     ]
    }
   ],
   "source": [
    "#  Écrivez du code Python ici\n",
    "list1 = [\"Hamza\", \"Omar\", \"Imad\"]\n",
    "list2 = [11, 12, 13]\n",
    "res = dict(tuple(zip(list1,list2)))\n",
    "print(res)\n",
    "\n",
    "\n",
    "   \n",
    "\n"
   ]
  },
  {
   "cell_type": "markdown",
   "id": "b64cf938",
   "metadata": {},
   "source": [
    "\n",
    "<H3><span style=\"font-weight: bold; color: #1a8bcdff;\">Challenge 4 : Tri d'un Dictionnaire</span></H3>\n",
    "\n",
    "1. <span style=\"font-weight: bold; color: #e56922ff;\">Objectif</span> : </br>\n",
    "Trier un dictionnaire selon ses valeurs.\n",
    "\n",
    "2. <span style=\"font-weight: bold; color: #e56922ff;\">Travail à faire</span>:</br>\n",
    "* Utilisez items() pour obtenir les paires clé-valeur.\n",
    "* Triez ces paires par valeur.\n",
    "* Créez un nouveau dictionnaire à partir des paires triées.\n",
    "\n"
   ]
  },
  {
   "cell_type": "code",
   "execution_count": 11,
   "id": "9840aba5",
   "metadata": {},
   "outputs": [
    {
     "name": "stdout",
     "output_type": "stream",
     "text": [
      "{'Non Admins': 1, 'Redoublant': 3, 'Admis': 3, 'Rattrapage': 5}\n"
     ]
    }
   ],
   "source": [
    "dict1 = {\"Admis\" : 3, \"Rattrapage\":5, \"Redoublant\":3,\"Non Admins\":1}\n",
    "x = list(dict1.items())\n",
    "for i in range(len(x)-1) :\n",
    "  for j in range(i+1, len(x)):\n",
    "        if x[i][1] > x[j][1]:\n",
    "            temp = x[i]\n",
    "            x[i] = x[j]\n",
    "            x[j] = temp\n",
    "newD = dict(x)\n",
    "print(newD)\n"
   ]
  },
  {
   "cell_type": "markdown",
   "id": "2c429ffc",
   "metadata": {},
   "source": [
    "\n",
    "<H3><span style=\"font-weight: bold; color: #1a8bcdff;\">Challenge 5 : Manipulation de tuples </span></H3>\n",
    "\n",
    "1. <span style=\"font-weight: bold; color: #e56922ff;\">Objectif</span> : </br>\n",
    "Comprendre la structure des tuples, leur immutabilité, et leur utilisation pour stocker des données groupées et ordonnées.\n",
    "\n",
    "2. <span style=\"font-weight: bold; color: #e56922ff;\">Travail à faire</span>:</br>\n",
    "* Crée un tuple nommé etudiant_info contenant les informations suivantes dans cet ordre : Prénom : \"Yasmine\", Âge : 22, Filière : \"Informatique\", Moyenne générale : 17.4\n",
    "* Affiche les informations stockées dans le tuple, une par ligne, avec un texte explicite. (ex: “Prénom : Yasmine”)\n",
    "* Tente de modifier la filière dans le tuple. Que se passe-t-il ? Explique pourquoi.\n",
    "* Utilise l'opérateur de slicing pour afficher uniquement le prénom et l'âge.\n",
    "* Crée un nouveau tuple en combinant etudiant_info avec un second tuple contenant la mention \"Très Bien\" et l’année d’obtention du diplôme (2024), puis affiche le tuple final."
   ]
  },
  {
   "cell_type": "code",
   "execution_count": 14,
   "id": "1e59354d",
   "metadata": {},
   "outputs": [
    {
     "name": "stdout",
     "output_type": "stream",
     "text": [
      "(('Prenom', 'Yasimne'), ('Age', 22), ('Filière', 'Informatique'), ('Moyenne Générale', 17.4))\n"
     ]
    }
   ],
   "source": [
    "#  Écrivez du code Python ici\n",
    "etudiant_info = (('Prenom', 'Yasimne'), ('Age', 22), ('Filière', 'Informatique'), ('Moyenne Générale', 17.4))\n",
    "print(etudiant_info)\n"
   ]
  },
  {
   "cell_type": "code",
   "execution_count": 17,
   "id": "8e834022",
   "metadata": {},
   "outputs": [
    {
     "name": "stdout",
     "output_type": "stream",
     "text": [
      "Prenom  :  Yasimne\n",
      "Age  :  22\n",
      "Filière  :  Informatique\n",
      "Moyenne Générale  :  17.4\n"
     ]
    }
   ],
   "source": [
    "for i in etudiant_info:\n",
    "    print(i[0], \" : \" ,i[1])"
   ]
  },
  {
   "cell_type": "code",
   "execution_count": 21,
   "id": "b96d02cf",
   "metadata": {},
   "outputs": [
    {
     "ename": "TypeError",
     "evalue": "'tuple' object does not support item assignment",
     "output_type": "error",
     "traceback": [
      "\u001b[31m---------------------------------------------------------------------------\u001b[39m",
      "\u001b[31mTypeError\u001b[39m                                 Traceback (most recent call last)",
      "\u001b[36mCell\u001b[39m\u001b[36m \u001b[39m\u001b[32mIn[21]\u001b[39m\u001b[32m, line 1\u001b[39m\n\u001b[32m----> \u001b[39m\u001b[32m1\u001b[39m \u001b[43metudiant_info\u001b[49m\u001b[43m[\u001b[49m\u001b[32;43m2\u001b[39;49m\u001b[43m]\u001b[49m\u001b[43m[\u001b[49m\u001b[32;43m0\u001b[39;49m\u001b[43m]\u001b[49m = \u001b[33m\"\u001b[39m\u001b[33mChnage\u001b[39m\u001b[33m\"\u001b[39m\n",
      "\u001b[31mTypeError\u001b[39m: 'tuple' object does not support item assignment"
     ]
    }
   ],
   "source": [
    "etudiant_info[2][0] = \"Chnage\""
   ]
  },
  {
   "cell_type": "markdown",
   "id": "70a5f351",
   "metadata": {},
   "source": [
    "<p>Tuples are unchangeable</p>"
   ]
  },
  {
   "cell_type": "code",
   "execution_count": 22,
   "id": "b3f341ec",
   "metadata": {},
   "outputs": [
    {
     "name": "stdout",
     "output_type": "stream",
     "text": [
      "(('Prenom', 'Yasimne'), ('Age', 22))\n"
     ]
    }
   ],
   "source": [
    "print(etudiant_info[:2])"
   ]
  },
  {
   "cell_type": "code",
   "execution_count": 24,
   "id": "fc250d01",
   "metadata": {},
   "outputs": [
    {
     "name": "stdout",
     "output_type": "stream",
     "text": [
      "(('Prenom', 'Yasimne'), ('Age', 22), ('Filière', 'Informatique'), ('Moyenne Générale', 17.4), ('Mention', 'Très Bien'), ('Anne', 2024))\n"
     ]
    }
   ],
   "source": [
    "etd = (('Mention' ,'Très Bien'), ('Anne',2024))\n",
    "tupl = etudiant_info + etd\n",
    "print(tupl)"
   ]
  }
 ],
 "metadata": {
  "kernelspec": {
   "display_name": "Python 3",
   "language": "python",
   "name": "python3"
  },
  "language_info": {
   "codemirror_mode": {
    "name": "ipython",
    "version": 3
   },
   "file_extension": ".py",
   "mimetype": "text/x-python",
   "name": "python",
   "nbconvert_exporter": "python",
   "pygments_lexer": "ipython3",
   "version": "3.11.9"
  }
 },
 "nbformat": 4,
 "nbformat_minor": 5
}
