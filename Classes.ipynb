{
 "cells": [
  {
   "cell_type": "markdown",
   "id": "08fd1dc2",
   "metadata": {},
   "source": [
    "\n",
    "<center>\n",
    "<H1><span style=\"text-align: center; font-weight: bold; color: #746bb3ff;\">Les Classes</span></H1>\n",
    "</center>"
   ]
  },
  {
   "cell_type": "markdown",
   "id": "e63c58e8",
   "metadata": {},
   "source": [
    "<H3><span style=\"font-weight: bold ; color: #19b7f1ff\">Les ressources: </span></H3> \n",
    "\n",
    "\n",
    "* [Documentation Officielle](https://docs.python.org/fr/3/tutorial/classes.html)\n",
    "* [Object-Oriented Programming (OOP)](https://realpython.com/python3-object-oriented-programming/)"
   ]
  },
  {
   "cell_type": "markdown",
   "id": "c6010b61",
   "metadata": {},
   "source": [
    "\n",
    "<H3><span style=\"font-weight: bold; color: #1a8bcdff;\">Challenge 1 : Gestion d’un compte bancaire en POO</span></H3>\n",
    "\n",
    "1. <span style=\"font-weight: bold; color: #e56922ff;\">Objectif</span> : </br>\n",
    "S’initier à la programmation orientée objet avec Python à travers la création d’une classe, la manipulation des attributs et l’appel de méthodes. Ce challenge permet de comprendre l'encapsulation des données et les actions associées à un objet.\n",
    "\n",
    "2. <span style=\"font-weight: bold; color: #e56922ff;\">Travail à faire</span>:</br>\n",
    "Crée une classe CompteBancaire avec les caractéristiques suivantes :\n",
    "1. Attributs :<br>\n",
    "* nom_proprietaire (chaîne)<br>\n",
    "* solde (float, initialisé à 0.0 par défaut)<br>\n",
    "2. Méthodes :\n",
    "*  __init__() : initialise le compte avec le nom du propriétaire et un solde optionnel.\n",
    "* deposer(montant) : ajoute le montant au solde.\n",
    "* retirer(montant) : retire le montant du solde si suffisant, sinon affiche un message d’erreur.\n",
    "* afficher_solde() : affiche le nom du propriétaire et le solde actuel."
   ]
  },
  {
   "cell_type": "code",
   "execution_count": 18,
   "id": "c1fdbf5b",
   "metadata": {},
   "outputs": [
    {
     "name": "stdout",
     "output_type": "stream",
     "text": [
      "Je suis Mouad et mon solde est: 0\n",
      "Je suis Mouad et mon solde est: 400\n",
      "Hamza : Retiré avec success, solde actuelle:  0\n",
      "Solde Insuffisant\n"
     ]
    }
   ],
   "source": [
    "#  Écrivez du code Python ici\n",
    "class CompteBancaire:\n",
    "    def __init__(self, nom, solde = 0):\n",
    "        self.__nom_proprietaire = nom\n",
    "        self.__solde = solde\n",
    "    def deposer(self, montant):\n",
    "        self.__solde += montant\n",
    "    \n",
    "    def retirer(self, montant):\n",
    "        if(self.__solde < montant):\n",
    "            print(\"Solde Insuffisant\")\n",
    "        else:\n",
    "            self.__solde -= montant\n",
    "            print(self.__nom_proprietaire+ \" : Retiré avec success, solde actuelle: \", self.__solde)\n",
    "    def afficher_solde(self):\n",
    "        print(f'Je suis {self.__nom_proprietaire} et mon solde est: {self.__solde}')\n",
    "\n",
    "cp = CompteBancaire(\"Hamza\", 500)\n",
    "cp2 = CompteBancaire(\"Mouad\")\n",
    "cp2.afficher_solde()\n",
    "cp2.deposer(400)\n",
    "cp2.afficher_solde()\n",
    "cp.retirer(500)\n",
    "cp2.retirer(700)\n",
    "\n"
   ]
  },
  {
   "cell_type": "markdown",
   "id": "c72d3084",
   "metadata": {},
   "source": [
    "<H3><span style=\"font-weight: bold; color: #1a8bcdff;\">Challenge 2 : Système de gestion d’école </span></H3>\n",
    "\n",
    "1. <span style=\"font-weight: bold; color: #e56922ff;\">Objectif</span> : </br>\n",
    "Mettre en pratique les concepts fondamentaux de la POO à travers la modélisation d’un système scolaire. Ce challenge permet de manipuler les classes, l’héritage, le polymorphisme, l'encapsulation, les propriétés et les méthodes abstraites.\n",
    "\n",
    "2. <span style=\"font-weight: bold; color: #e56922ff;\">Travail à faire</span>:</br>\n",
    "* Classe abstraite Personne (à l'aide du module abc):\n",
    "1. Attributs : nom, prenom, age\n",
    "2. Méthode abstraite : afficher_infos()\n",
    "* Classe Etudiant héritée de Personne\n",
    "1. Attributs supplémentaires : matricule, notes (liste de floats)\n",
    "2. Méthodes : ajouter_note(note), moyenne(), afficher_infos() (redéfinition)\n",
    "* Classe Enseignant héritée de Personne\n",
    "1. Attributs supplémentaires : specialite, salaire\n",
    "2. Méthode afficher_infos() (redéfinition) @property et @setter pour sécuriser l’accès/modification du salaire\n",
    "* Classe Ecole\n",
    "1. Attributs : nom, liste_etudiants (liste d’objets Etudiant), liste_enseignants (liste d’objets Enseignant)\n",
    "2. Méthodes :ajouter_etudiant(etudiant), ajouter_enseignant(enseignant), afficher_tous_les_membres() (polymorphisme via afficher_infos())\n"
   ]
  },
  {
   "cell_type": "code",
   "execution_count": 2,
   "id": "f81f7266",
   "metadata": {},
   "outputs": [],
   "source": [
    "#  Écrivez du code Python ici\n",
    "from abc import ABC, abstractmethod\n",
    "class Personne(ABC):\n",
    "    def __init__(self, nom, prenom, age):\n",
    "        self._nom = nom\n",
    "        self._prenom = prenom\n",
    "        self._age = age\n",
    "    @abstractmethod\n",
    "    def afficher_info(self):\n",
    "        pass\n",
    "\n",
    "\n"
   ]
  },
  {
   "cell_type": "code",
   "execution_count": 12,
   "id": "394f5eb3",
   "metadata": {},
   "outputs": [],
   "source": [
    "class Etudiant(Personne):\n",
    "    def __init__(self, nom, prenom, age, matricule, notes: list ):\n",
    "        super().__init__(nom, prenom, age)\n",
    "        self.__matricule = matricule\n",
    "        self.__notes = notes\n",
    "    def afficher_info(self):\n",
    "        print(f\"je suis {self._nom} {self._prenom}, j'ai {self._age}, matricule: {self.__matricule}, notes {self.__notes}\")\n",
    "    \n",
    "    def ajouter_note(self, note: float):\n",
    "        self.__notes.append(note)\n",
    "        print('note ajoute success')\n",
    "    def moyenne(self):\n",
    "        moy = 0\n",
    "        for n in self.__notes:\n",
    "            moy += n\n",
    "        print('votre moyenne est: ',moy/len(self.__notes))"
   ]
  },
  {
   "cell_type": "code",
   "execution_count": 15,
   "id": "974ebf72",
   "metadata": {},
   "outputs": [
    {
     "name": "stdout",
     "output_type": "stream",
     "text": [
      "note ajoute success\n",
      "je suis Hamza Gbouri, j'ai 21, matricule: ETD001, notes [12, 20, 18, 10]\n",
      "votre moyenne est:  15.0\n"
     ]
    }
   ],
   "source": [
    "etd = Etudiant(\"Hamza\", \"Gbouri\", 21, \"ETD001\", [12,20,18])\n",
    "etd.ajouter_note(10)\n",
    "etd.afficher_info()\n",
    "etd.moyenne()"
   ]
  },
  {
   "cell_type": "markdown",
   "id": "a1cbceac",
   "metadata": {},
   "source": []
  },
  {
   "cell_type": "markdown",
   "id": "66c10d24",
   "metadata": {},
   "source": [
    "* Classe Enseignant héritée de Personne\n",
    "1. Attributs supplémentaires : specialite, salaire\n",
    "2. Méthode afficher_infos() (redéfinition) @property et @setter pour sécuriser l’accès/modification du salaire\n"
   ]
  },
  {
   "cell_type": "code",
   "execution_count": 10,
   "id": "68c2411e",
   "metadata": {},
   "outputs": [],
   "source": [
    "class Enseignant(Personne):\n",
    "    def __init__(self, nom, prenom, age, specialite, salaire):\n",
    "        super().__init__(nom, prenom, age)\n",
    "        self.__specialite = specialite\n",
    "        self.__salaire = salaire\n",
    "    def afficher_info(self):\n",
    "        print(f\"je suis {self._nom} {self._prenom}, j'ai {self._age}, specialite: {self.__specialite}, salaire {self.__salaire}\")\n",
    "    @property\n",
    "    def salaire(self):\n",
    "        return self.__salaire\n",
    "    \n",
    "    @salaire.setter\n",
    "    def salaire(self,sal):\n",
    "        self.__salaire = sal\n",
    "    \n",
    "    \n",
    "    "
   ]
  },
  {
   "cell_type": "code",
   "execution_count": 14,
   "id": "72f06085",
   "metadata": {},
   "outputs": [
    {
     "name": "stdout",
     "output_type": "stream",
     "text": [
      "je suis Hamza Gbouri, j'ai 44, specialite: Informatique, salaire 12000\n",
      "12000\n",
      "je suis Hamza Gbouri, j'ai 44, specialite: Informatique, salaire 800\n"
     ]
    }
   ],
   "source": [
    "ens = Enseignant(\"Hamza\", \"Gbouri\", 44, \"Informatique\", 12000)\n",
    "ens.afficher_info()\n",
    "print(ens.salaire)\n",
    "ens.salaire = 800\n",
    "ens.afficher_info()"
   ]
  },
  {
   "cell_type": "markdown",
   "id": "fdb0d349",
   "metadata": {},
   "source": [
    "* Classe Ecole\n",
    "1. Attributs : nom, liste_etudiants (liste d’objets Etudiant), liste_enseignants (liste d’objets Enseignant)\n",
    "2. Méthodes :ajouter_etudiant(etudiant), ajouter_enseignant(enseignant), afficher_tous_les_membres() (polymorphisme via afficher_infos()"
   ]
  },
  {
   "cell_type": "code",
   "execution_count": 24,
   "id": "c123cfc5",
   "metadata": {},
   "outputs": [],
   "source": [
    "class Ecole:\n",
    "    def __init__(self, nom):\n",
    "        self.__nom = nom\n",
    "        self.__liste_etudiants = []\n",
    "        self.__liste_enseignants = []\n",
    "    def ajouter_etudiant(self,etd: Etudiant):\n",
    "        self.__liste_etudiants.append(etd)\n",
    "        print('Etudiant ajouter avec succe')\n",
    "    def ajouter_enseignant(self, ens: Enseignant):\n",
    "        self.__liste_enseignants.append(ens)\n",
    "        print('Enseignant ajouté avec success')\n",
    "    def afficher_tous_les_membres(self):\n",
    "        print(f\"Ecole: {self.__nom}, la liste des etudiants: \")\n",
    "        for e in self.__liste_etudiants:\n",
    "            e.afficher_info()\n",
    "        print('La liste des enseignants: ')\n",
    "        for es in self.__liste_enseignants:\n",
    "            es.afficher_info()\n"
   ]
  },
  {
   "cell_type": "code",
   "execution_count": 25,
   "id": "234fd3e2",
   "metadata": {},
   "outputs": [
    {
     "name": "stdout",
     "output_type": "stream",
     "text": [
      "Enseignant ajouté avec success\n",
      "Etudiant ajouter avec succe\n",
      "Ecole: YouCode, la liste des etudiants: \n",
      "je suis Hamza Gbouri, j'ai 21, matricule: ETD001, notes [12, 20, 18, 10]\n",
      "La liste des enseignants: \n",
      "je suis Hamza Gbouri, j'ai 44, specialite: Informatique, salaire 800\n"
     ]
    }
   ],
   "source": [
    "ecole = Ecole(\"YouCode\")\n",
    "ecole.ajouter_enseignant(ens)\n",
    "ecole.ajouter_etudiant(etd)\n",
    "ecole.afficher_tous_les_membres()"
   ]
  }
 ],
 "metadata": {
  "kernelspec": {
   "display_name": "Python 3",
   "language": "python",
   "name": "python3"
  },
  "language_info": {
   "codemirror_mode": {
    "name": "ipython",
    "version": 3
   },
   "file_extension": ".py",
   "mimetype": "text/x-python",
   "name": "python",
   "nbconvert_exporter": "python",
   "pygments_lexer": "ipython3",
   "version": "3.11.9"
  }
 },
 "nbformat": 4,
 "nbformat_minor": 5
}
