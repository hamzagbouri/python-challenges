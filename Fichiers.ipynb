{
 "cells": [
  {
   "cell_type": "markdown",
   "id": "784cad32",
   "metadata": {},
   "source": [
    "\n",
    "<center>\n",
    "<H1><span style=\"text-align: center; font-weight: bold; color: #746bb3ff;\">Gestion de Fichiers</span></H1>\n",
    "</center>"
   ]
  },
  {
   "cell_type": "markdown",
   "id": "00451f59",
   "metadata": {},
   "source": [
    "<H3><span style=\"font-weight: bold ; color: #19b7f1ff\">Les ressources: </span></H3> \n",
    "\n",
    "* [Documentation Officielle de Python](https://docs.python.org/fr/3/tutorial/inputoutput.html#reading-and-writing-files)\n",
    "* [Reading and Writing Files in Python](https://realpython.com/read-write-files-python/)"
   ]
  },
  {
   "cell_type": "markdown",
   "id": "3d2ea4b9",
   "metadata": {},
   "source": [
    "<H3><span style=\"font-weight: bold; color: #1a8bcdff;\">Challenge 1 : Extraction et Traitement de Fichiers</span></H3>\n",
    "\n",
    "1. <span style=\"font-weight: bold; color: #e56922ff;\">Objectif</span> : </br>\n",
    "Lire plusieurs fichiers texte et combiner leur contenu.\n",
    "\n",
    "2. <span style=\"font-weight: bold; color: #e56922ff;\">Travail à faire</span>:</br>\n",
    "* Utilisez os.listdir() pour lister tous les fichiers texte dans un répertoire.\n",
    "* Utilisez open() pour lire chaque fichier et extraire son contenu.\n",
    "* Combinez le contenu de tous les fichiers en un seul texte."
   ]
  },
  {
   "cell_type": "code",
   "execution_count": 3,
   "id": "21b6f2cb",
   "metadata": {},
   "outputs": [
    {
     "name": "stdout",
     "output_type": "stream",
     "text": [
      "['file.txt', 'test.txt']\n"
     ]
    }
   ],
   "source": [
    "#  Écrivez du code Python ici\n",
    "import os\n",
    "content = os.listdir(\"./fichier\")\n",
    "print(content)\n"
   ]
  },
  {
   "cell_type": "code",
   "execution_count": 9,
   "id": "7790d040",
   "metadata": {},
   "outputs": [
    {
     "name": "stdout",
     "output_type": "stream",
     "text": [
      "hello \n",
      "salam smiti hamza\n"
     ]
    }
   ],
   "source": [
    "for f in content:\n",
    "    a = open('./fichier/'+f)\n",
    "    print(a.read())\n",
    "\n"
   ]
  },
  {
   "cell_type": "markdown",
   "id": "5240bc4e",
   "metadata": {},
   "source": [
    "<H3><span style=\"font-weight: bold; color: #1a8bcdff;\">Challenge 2 : Recherche de Fichiers</span></H3>\n",
    "\n",
    "1. <span style=\"font-weight: bold; color: #e56922ff;\">Objectif</span> : </br>\n",
    "Vérifier l'existence de fichiers spécifiques et les traiter.\n",
    "\n",
    "2. <span style=\"font-weight: bold; color: #e56922ff;\">Travail à faire</span>:</br>\n",
    "* Utilisez os.path.exists() pour vérifier si des fichiers de configuration (config.yaml) existent dans un répertoire donné.\n",
    "* Si le fichier existe, ouvrez-le et affichez son contenu."
   ]
  },
  {
   "cell_type": "code",
   "execution_count": 14,
   "id": "fa5797e7",
   "metadata": {},
   "outputs": [
    {
     "name": "stdout",
     "output_type": "stream",
     "text": [
      "True\n"
     ]
    }
   ],
   "source": [
    "#  Écrivez du code Python ici\n",
    "dossier = \"C:/\\/Users/\\/hamza/\\/Desktop/\\/config.yaml\"\n",
    "f = os.path.exists(dossier)\n",
    "print(f)\n"
   ]
  },
  {
   "cell_type": "code",
   "execution_count": 18,
   "id": "368f4c4a",
   "metadata": {},
   "outputs": [
    {
     "name": "stdout",
     "output_type": "stream",
     "text": [
      "app:\n",
      "  name: MyApp\n",
      "  version: 1.0.0\n",
      "  debug: true\n",
      "\n",
      "database:\n",
      "  host: localhost\n",
      "  port: 5432\n",
      "  user: admin\n",
      "  password: secret\n",
      "  name: myapp_d_\n",
      "\n"
     ]
    }
   ],
   "source": [
    "file = open(dossier)\n",
    "print(file.read())"
   ]
  },
  {
   "cell_type": "markdown",
   "id": "c9850348",
   "metadata": {},
   "source": [
    "<H3><span style=\"font-weight: bold; color: #1a8bcdff;\">Challenge 4 : Création de Répertoires</span></H3>\n",
    "\n",
    "1. <span style=\"font-weight: bold; color: #e56922ff;\">Objectif</span> : </br>\n",
    "Créer une structure de répertoires à partir d'une liste de noms.\n",
    "\n",
    "2. <span style=\"font-weight: bold; color: #e56922ff;\">Travail à faire</span>:</br>\n",
    "* Utilisez os.mkdir() pour créer un répertoire principal.\n",
    "* Créez plusieurs sous-répertoires à l'intérieur du répertoire principal en utilisant une liste de noms."
   ]
  },
  {
   "cell_type": "code",
   "execution_count": null,
   "id": "07f28968",
   "metadata": {},
   "outputs": [],
   "source": [
    "#  Écrivez du code Python ici\n",
    "\n",
    "os.mkdir('dir')"
   ]
  },
  {
   "cell_type": "code",
   "execution_count": 24,
   "id": "68b1757d",
   "metadata": {},
   "outputs": [],
   "source": [
    "dossier = \"./dir/\"\n",
    "paths = ['java', 'js', 'py']\n",
    "for p in paths:\n",
    "    os.mkdir(dossier+p)"
   ]
  },
  {
   "cell_type": "markdown",
   "id": "70d5c0f1",
   "metadata": {},
   "source": [
    "<H3><span style=\"font-weight: bold; color: #1a8bcdff;\">Challenge 5 : Copie Sélective de Fichiers</span></H3>\n",
    "\n",
    "1. <span style=\"font-weight: bold; color: #e56922ff;\">Objectif</span> : </br>\n",
    "Copier des fichiers spécifiques d'un répertoire à un autre.\n",
    "\n",
    "2. <span style=\"font-weight: bold; color: #e56922ff;\">Travail à faire</span>:</br>\n",
    "* Utilisez os.listdir() pour lister tous les fichiers dans un répertoire source.\n",
    "* Utilisez shutil.copy() pour copier uniquement les fichiers avec une extension spécifique (par exemple, .csv) vers un répertoire de destination."
   ]
  },
  {
   "cell_type": "code",
   "execution_count": 25,
   "id": "d723fec4",
   "metadata": {},
   "outputs": [
    {
     "name": "stdout",
     "output_type": "stream",
     "text": [
      "['file.txt', 'filee.js', 'main.java', 'test.java', 'test.txt']\n",
      "['main.java', 'test.java']\n"
     ]
    }
   ],
   "source": [
    "#  Écrivez du code Python ici\n",
    "import shutil\n",
    "print(os.listdir('./fichier'))\n",
    "files = os.listdir('./fichier')\n",
    "des = \"./dir/java\"\n",
    "src = \"./fichier/\"\n",
    "for f in files:\n",
    "    if f.endswith(\".java\"):\n",
    "        shutil.copy(src+f,des)\n",
    "print(os.listdir('./dir/java'))\n",
    "\n",
    "\n",
    "\n",
    "    "
   ]
  },
  {
   "cell_type": "markdown",
   "id": "860b9d43",
   "metadata": {},
   "source": [
    "<H3><span style=\"font-weight: bold; color: #1a8bcdff;\">Challenge 6 : Écriture de Fichiers</span></H3>\n",
    "\n",
    "1. <span style=\"font-weight: bold; color: #e56922ff;\">Objectif</span> : </br>\n",
    "Écrire du contenu dans un fichier texte.\n",
    "\n",
    "2. <span style=\"font-weight: bold; color: #e56922ff;\">Travail à faire</span>:</br>\n",
    "* Utilisez open() en mode écriture pour créer un nouveau fichier texte.\n",
    "* Écrivez des lignes de texte dans le fichier en utilisant une boucle.\n",
    "* Fermez le fichier et vérifiez que les données ont été correctement enregistrées."
   ]
  },
  {
   "cell_type": "code",
   "execution_count": 33,
   "id": "bacbe689",
   "metadata": {},
   "outputs": [],
   "source": [
    "#  Écrivez du code Python ici\n",
    "file = open('./challenge6.txt', 'w')\n",
    "\n"
   ]
  },
  {
   "cell_type": "code",
   "execution_count": 34,
   "id": "43e95820",
   "metadata": {},
   "outputs": [
    {
     "name": "stdout",
     "output_type": "stream",
     "text": [
      "hello world, my name is hamza\n"
     ]
    }
   ],
   "source": [
    "file.write(\"hello world, my name is hamza\")\n",
    "file.close()\n",
    "file = open('./challenge6.txt')\n",
    "print(file.read())\n",
    "file.close()\n"
   ]
  },
  {
   "cell_type": "markdown",
   "id": "27cd8680",
   "metadata": {},
   "source": []
  },
  {
   "cell_type": "code",
   "execution_count": 41,
   "id": "696235a9",
   "metadata": {},
   "outputs": [
    {
     "name": "stdout",
     "output_type": "stream",
     "text": [
      "Salam ana etudiant 0\n",
      "Salam ana etudiant 1\n",
      "Salam ana etudiant 2\n",
      "Salam ana etudiant 3\n",
      "Salam ana etudiant 4\n",
      "Salam ana etudiant 5\n",
      "\n"
     ]
    }
   ],
   "source": [
    "file = open('./challenge6.txt', 'w')\n",
    "for i in range(6):\n",
    "    file.write(f\"Salam ana etudiant {i}\\n\")\n",
    "file.close()\n",
    "file = open('./challenge6.txt')\n",
    "print(file.read())\n",
    "file.close()\n"
   ]
  }
 ],
 "metadata": {
  "kernelspec": {
   "display_name": "Python 3",
   "language": "python",
   "name": "python3"
  },
  "language_info": {
   "codemirror_mode": {
    "name": "ipython",
    "version": 3
   },
   "file_extension": ".py",
   "mimetype": "text/x-python",
   "name": "python",
   "nbconvert_exporter": "python",
   "pygments_lexer": "ipython3",
   "version": "3.11.9"
  }
 },
 "nbformat": 4,
 "nbformat_minor": 5
}
